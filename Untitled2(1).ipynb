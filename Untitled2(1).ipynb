{
 "cells": [
  {
   "cell_type": "code",
   "execution_count": 34,
   "id": "eac02fa7",
   "metadata": {},
   "outputs": [],
   "source": [
    "from sklearn.model_selection import train_test_split\n",
    "from keras.preprocessing.text import Tokenizer\n",
    "from keras.preprocessing.sequence import pad_sequences\n",
    "from keras.models import Sequential\n",
    "from keras.layers import Embedding, Conv1D, GlobalMaxPooling1D, Dense\n",
    "import tensorflow\n",
    "import pandas as pd\n",
    "import numpy as np       "
   ]
  },
  {
   "cell_type": "code",
   "execution_count": 35,
   "id": "7b2c06bf",
   "metadata": {},
   "outputs": [
    {
     "name": "stdout",
     "output_type": "stream",
     "text": [
      "Model: \"sequential_2\"\n",
      "_________________________________________________________________\n",
      " Layer (type)                Output Shape              Param #   \n",
      "=================================================================\n",
      " embedding_2 (Embedding)     (None, 200, 100)          1000000   \n",
      "                                                                 \n",
      " conv1d_2 (Conv1D)           (None, 196, 128)          64128     \n",
      "                                                                 \n",
      " global_max_pooling1d_2 (Gl  (None, 128)               0         \n",
      " obalMaxPooling1D)                                               \n",
      "                                                                 \n",
      " dense_4 (Dense)             (None, 10)                1290      \n",
      "                                                                 \n",
      " dense_5 (Dense)             (None, 1)                 11        \n",
      "                                                                 \n",
      "=================================================================\n",
      "Total params: 1065429 (4.06 MB)\n",
      "Trainable params: 1065429 (4.06 MB)\n",
      "Non-trainable params: 0 (0.00 Byte)\n",
      "_________________________________________________________________\n"
     ]
    }
   ],
   "source": [
    "# Пример модели\n",
    "max_words = 10000\n",
    "embedding_dim = 100\n",
    "maxlen = 200\n",
    "model = Sequential()\n",
    "model.add(Embedding(max_words, embedding_dim, input_length=maxlen))\n",
    "model.add(Conv1D(128, 5, activation='relu'))\n",
    "model.add(GlobalMaxPooling1D())\n",
    "model.add(Dense(10, activation='relu'))\n",
    "model.add(Dense(1, activation='sigmoid'))\n",
    "\n",
    "model.compile(optimizer='adam', loss='binary_crossentropy', metrics=['accuracy'])\n",
    "model.summary()"
   ]
  },
  {
   "cell_type": "code",
   "execution_count": 36,
   "id": "96020f28",
   "metadata": {},
   "outputs": [],
   "source": [
    "table = pd.read_csv(\"C:/Users/artam/OneDrive/Рабочий стол/искусственный идиот/train.csv\", names = [\"rate\", \"feedback\", \"comm\"])\n",
    "X_train = []\n",
    "Y_train = []\n",
    "\n",
    "tmp1 = list(table['feedback'])\n",
    "tmp2 = list(table['comm'])\n",
    "tmp3 = list(table['rate'])\n",
    "for i in range(table.shape[0]):\n",
    "    X_train.append(str(tmp1[i]) + str(tmp2[i]))\n",
    "    Y_train.append(tmp3[i] - 1)\n",
    "\n",
    "tokenizer = Tokenizer(num_words=10000)\n",
    "maxlen = 200"
   ]
  },
  {
   "cell_type": "code",
   "execution_count": 37,
   "id": "f85b5554",
   "metadata": {},
   "outputs": [],
   "source": [
    "tokenizer.fit_on_texts(X_train)\n",
    "tokenized_X_train = tokenizer.texts_to_sequences(X_train)\n",
    "padded_X_train = pad_sequences(tokenized_X_train, maxlen=maxlen)\n",
    "binary_Y_train = np.array(Y_train)\n",
    "X_train, X_test, Y_train, Y_test = train_test_split(padded_X_train, binary_Y_train, test_size=0.2, random_state=42)"
   ]
  },
  {
   "cell_type": "code",
   "execution_count": null,
   "id": "a48ae57b",
   "metadata": {},
   "outputs": [
    {
     "name": "stdout",
     "output_type": "stream",
     "text": [
      "Epoch 1/2\n",
      "11130/81000 [===>..........................] - ETA: 29:45 - loss: 0.2152 - accuracy: 0.9130"
     ]
    }
   ],
   "source": [
    "model = Sequential()\n",
    "model.add(Embedding(input_dim=10000, output_dim=100, input_length=200))\n",
    "model.add(Conv1D(128, 5, activation='relu'))\n",
    "model.add(GlobalMaxPooling1D())\n",
    "model.add(Dense(10, activation='relu'))\n",
    "model.add(Dense(1, activation='sigmoid'))\n",
    "\n",
    "# Компилируем модель\n",
    "model.compile(optimizer='adam', loss='binary_crossentropy', metrics=['accuracy'])\n",
    "\n",
    "# Обучаем модель\n",
    "model.fit(X_train, Y_train, epochs=2, batch_size=32, validation_split=0.1)\n",
    "\n",
    "# Оценка модели на тестовом наборе\n",
    "loss, accuracy = model.evaluate(X_test, Y_test)\n",
    "print(f'Test accuracy: {accuracy * 100:.2f}%')"
   ]
  },
  {
   "cell_type": "code",
   "execution_count": 11,
   "id": "d598227d",
   "metadata": {
    "scrolled": true
   },
   "outputs": [
    {
     "name": "stdout",
     "output_type": "stream",
     "text": [
      "22500/22500 [==============================] - 119s 5ms/step - loss: 0.1491 - accuracy: 0.9439\n",
      "Test accuracy: 94.39%\n"
     ]
    }
   ],
   "source": [
    "#model.fit(np.array(X_train), np.array(Y_train), epochs=5, batch_size=32, validation_split=0.1)\n",
    "loss, accuracy = model.evaluate(X_test, Y_test)\n",
    "print(f'Test accuracy: {accuracy * 100:.2f}%')"
   ]
  },
  {
   "cell_type": "code",
   "execution_count": 33,
   "id": "6441a4f2",
   "metadata": {},
   "outputs": [
    {
     "name": "stdout",
     "output_type": "stream",
     "text": [
      "1/1 [==============================] - 0s 17ms/step\n",
      "\n",
      "Average rate: 3.4\n",
      "Approximate estimates: 5 1 3 3 5\n",
      "Review: Wow its amazing!\n",
      "Positive\n",
      "\n",
      "Review: man it sucks.\n",
      "Negative\n",
      "\n",
      "Review: idk\n",
      "Mixed\n",
      "\n",
      "Review: its kinda weird\n",
      "Mixed\n",
      "\n",
      "Review: i love it!\n",
      "Positive\n",
      "\n"
     ]
    }
   ],
   "source": [
    "new_reviews = [\"Wow its amazing!\", \"man it sucks.\", \"idk\", \"its kinda weird\", \"i love it!\"]\n",
    "\n",
    "\n",
    "tokenized_new_reviews = tokenizer.texts_to_sequences(new_reviews)\n",
    "\n",
    "\n",
    "padded_new_reviews = pad_sequences(tokenized_new_reviews, maxlen=maxlen)\n",
    "\n",
    "\n",
    "predictions = model.predict(padded_new_reviews)\n",
    "p = []\n",
    "for i in predictions:\n",
    "    p.append(round(i[0]*4 + 1))\n",
    "    \n",
    "\n",
    "print(\"\\nAverage rate:\", sum(p)/len(p))\n",
    "print(\"Approximate estimates:\", *p)\n",
    "\n",
    "for i, review in enumerate(new_reviews):\n",
    "    print(f\"Review: {review}\")\n",
    "    if predictions[i] > 0.7:\n",
    "        print(\"Positive\")\n",
    "    elif predictions[i] > 0.4:\n",
    "        print(\"Mixed\")\n",
    "    else:\n",
    "        print(\"Negative\")\n",
    "    print() "
   ]
  },
  {
   "cell_type": "code",
   "execution_count": null,
   "id": "6ce016c4",
   "metadata": {},
   "outputs": [],
   "source": []
  }
 ],
 "metadata": {
  "kernelspec": {
   "display_name": "Python 3 (ipykernel)",
   "language": "python",
   "name": "python3"
  },
  "language_info": {
   "codemirror_mode": {
    "name": "ipython",
    "version": 3
   },
   "file_extension": ".py",
   "mimetype": "text/x-python",
   "name": "python",
   "nbconvert_exporter": "python",
   "pygments_lexer": "ipython3",
   "version": "3.11.4"
  }
 },
 "nbformat": 4,
 "nbformat_minor": 5
}
